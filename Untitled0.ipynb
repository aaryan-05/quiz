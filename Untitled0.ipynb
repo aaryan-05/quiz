{
  "nbformat": 4,
  "nbformat_minor": 0,
  "metadata": {
    "colab": {
      "name": "Untitled0.ipynb",
      "provenance": [],
      "collapsed_sections": [],
      "authorship_tag": "ABX9TyPZNMQUI/TLr8uxIVH+t69Y",
      "include_colab_link": true
    },
    "kernelspec": {
      "name": "python3",
      "display_name": "Python 3"
    },
    "language_info": {
      "name": "python"
    }
  },
  "cells": [
    {
      "cell_type": "markdown",
      "metadata": {
        "id": "view-in-github",
        "colab_type": "text"
      },
      "source": [
        "<a href=\"https://colab.research.google.com/github/aaryan-05/quiz/blob/main/Untitled0.ipynb\" target=\"_parent\"><img src=\"https://colab.research.google.com/assets/colab-badge.svg\" alt=\"Open In Colab\"/></a>"
      ]
    },
    {
      "cell_type": "code",
      "source": [
        "print(\"1. When did India got Independence?\")\n",
        "print(\"a. 1947 b. 1999 c. 1956  d. 1985\")\n",
        "answer=input(\"Enter your option: \")\n",
        "if answer == \"a\":\n",
        "  print(\"Well Done! That's the correct answer!\")\n",
        "else:\n",
        "  print(\"Wrong! The correct answer is option a.'1947'\")\n",
        "  \n",
        "print(\"-------------------------------------------------------\") \n",
        "   \n",
        "print(\"2. How many brains does a Starfish have?\")\n",
        "print(\"a. 4 b. 3 c. 1 d. 0 \")\n",
        "answer=input(\"Enter your option: \")\n",
        "if answer == \"d\":\n",
        "  print(\"Well Done! That's the correct answer!\")\n",
        "else:\n",
        "  print(\"Wrong! The correct answer is option a. '0'\")\n",
        "\n",
        "print(\"-------------------------------------------------------\")\n",
        "\n",
        "print(\"3. What is the name of the worlds longest river in length? \")\n",
        "print(\"a. Nile  b. Amazon River  c. Yellow River  d. Congo River \")\n",
        "answer=input(\"Enter your option: \")\n",
        "if answer == \"b\":\n",
        "  print(\"Well Done! That's the correct answer!\")\n",
        "else:\n",
        "  print(\"Wrong! The correct answer is option b.'Amazon River'\")\n",
        "\n",
        "print(\"-------------------------------------------------------\")\n",
        "\n",
        "print(\"4. What is the name of the worlds tallest mountain? \")\n",
        "print(\"a. Mount Everest b. K2 c. Himalayas d. Lhotse \")\n",
        "answer=input(\"Enter your option: \")\n",
        "if answer == \"a\":\n",
        "  print(\"Well Done! That's the correct answer!\")\n",
        "else:\n",
        "  print(\"Wrong! The correct answer is option a. 'Mount Everest'\")\n",
        "\n",
        "  print(\"-------------------------------------------------------\")\n",
        "\n",
        "print(\"5.The figure of which bird is found on Mexico's National Flag? \")\n",
        "print(\"a. Kingfisher b. Dove  c. Eagle  d. Parrot \")\n",
        "answer=input(\"Enter your option: \")\n",
        "if answer == \"c\":\n",
        "  print(\"Well Done! That's the correct answer!\")\n",
        "else:\n",
        "  print(\"Wrong! The correct answer is option c. 'Eagle'\")\n",
        "\n",
        "print(\"-------------------------------------------------------\")\n",
        "\n",
        "print(\"6. How many letters are there in the English alphabet? \")\n",
        "print(\"a. 29  b. 27 c. 26  d. 28\")\n",
        "answer=input(\"Enter your option: \")\n",
        "if answer == \"c\":\n",
        "  print(\"Well Done! That's the correct answer!\")\n",
        "else:\n",
        "  print(\"Wrong! The correct answer is option c. '26'\")\n",
        "\n",
        "print(\"-------------------------------------------------------\")\n",
        "\n",
        "print(\"7. Longest snake in the world? \")\n",
        "print(\"a. Black Mamba   b. reticulated python  c. Gaboon Viper d. Green Anaconda \")\n",
        "answer=input(\"Enter your option: \")\n",
        "if answer == \"d\":\n",
        "  print(\"Well Done! That's the correct answer!\")\n",
        "else:\n",
        "  print(\"Wrong! The correct answer is option d. 'Green Anaconda'\")\n",
        "\n",
        "print(\"-------------------------------------------------------\")\n",
        "\n",
        "print(\"8. How many medals did India got total in 2022? \")\n",
        "print(\"a. 89  b. 36  c. 77  d.61 \")\n",
        "answer=input(\"Enter your option: \")\n",
        "if answer == \"d\":\n",
        "  print(\"Well Done! That's the correct answer!\")\n",
        "else:\n",
        "  print(\"Wrong! The correct answer is option d. '61'\")\n",
        "\n",
        "print(\"-------------------------------------------------------\")\n",
        "\n",
        "print(\"9. Happiest country in the world 2022 is? \")\n",
        "print(\"a. Denmark  b. India  c. Finland d. Norway\")\n",
        "answer=input(\"Enter your option: \")\n",
        "if answer == \"c\":\n",
        "  print(\"Well Done! That's the correct answer!\")\n",
        "else:\n",
        "  print(\"Wrong! The correct answer is option c. 'Finland'\")\n",
        "\n",
        "print(\"-------------------------------------------------------\")\n",
        "\n",
        "print(\"10. How much did you liked our General Knowledge Quiz? \")\n",
        "print(\"a. 1 star  b. 2 star c. 3 star d. 4 star e. 5 star \")\n",
        "answer=input(\"Enter your ratings in number: \")\n",
        "print(\"Thanks you for rating and playing our Quiz!\")"
      ],
      "metadata": {
        "colab": {
          "base_uri": "https://localhost:8080/"
        },
        "id": "kdfDex_1rnpK",
        "outputId": "e600a1d1-1ac4-4ce7-96b0-133fef137c1e"
      },
      "execution_count": null,
      "outputs": [
        {
          "output_type": "stream",
          "name": "stdout",
          "text": [
            "1.When did India got independence? \n",
            "a. 1947 b. 1902 c. 1958 d. 1999\n",
            "Enter your option: b\n",
            "The correct answer is option a. '1947'\n"
          ]
        }
      ]
    }
  ]
}